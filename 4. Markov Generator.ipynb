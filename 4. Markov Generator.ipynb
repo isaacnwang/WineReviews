{
 "cells": [
  {
   "cell_type": "code",
   "execution_count": 2,
   "metadata": {},
   "outputs": [],
   "source": [
    "\n",
    "import numpy as np\n",
    "import pandas as pd\n",
    "import re\n",
    "import sqlite3\n",
    "from sqlite3 import Error\n",
    "\n",
    "import nltk\n",
    "import seaborn as sns\n",
    "from nltk.tokenize import word_tokenize\n",
    "# For Natural Language Processing\n",
    "import regex as re\n",
    "import unidecode\n",
    "from nltk.stem import WordNetLemmatizer\n",
    "from nltk.corpus import stopwords\n",
    "from sklearn.feature_extraction.text import CountVectorizer\n",
    "\n",
    "import warnings\n",
    "warnings.filterwarnings(\"ignore\", 'This pattern has match groups')\n",
    "\n",
    "# For classification modeling\n",
    "from sklearn.model_selection import train_test_split, cross_val_score, GridSearchCV\n",
    "from sklearn.linear_model import LogisticRegression\n",
    "from sklearn.ensemble import RandomForestClassifier\n",
    "from sklearn.naive_bayes import MultinomialNB\n",
    "\n",
    "# For evaluation\n",
    "from sklearn.metrics import confusion_matrix\n",
    "\n",
    "# For wordclouds\n",
    "from PIL import Image\n",
    "from wordcloud import WordCloud, ImageColorGenerator\n",
    "\n",
    "pd.set_option('display.max_colwidth', -1)"
   ]
  },
  {
   "cell_type": "code",
   "execution_count": 2,
   "metadata": {},
   "outputs": [
    {
     "name": "stdout",
     "output_type": "stream",
     "text": [
      "aromas sweat bread introduce flavors fig cookie chocolaty flavors drink fruity\n"
     ]
    }
   ],
   "source": [
    "import markovify\n",
    "\n",
    "\n",
    "filename = 'Markov2.csv'\n",
    "with open(filename, \"r\") as file:\n",
    "    reviews = file.read()\n",
    "    \n",
    "    \n",
    "# Build the model.\n",
    "text_model = markovify.NewlineText(reviews)\n",
    "\n",
    "# Print randomly-generated sentences of no more than 150 characters\n",
    "print(text_model.make_short_sentence(150))"
   ]
  },
  {
   "cell_type": "code",
   "execution_count": 11,
   "metadata": {},
   "outputs": [
    {
     "name": "stdout",
     "output_type": "stream",
     "text": [
      "coming one state esteemed vineyards denomination features aromas honey sliced peaches doused melted butter banana vanilla yeasty dough flavors\n"
     ]
    }
   ],
   "source": [
    "print(text_model.make_short_sentence(150))"
   ]
  },
  {
   "cell_type": "code",
   "execution_count": 12,
   "metadata": {},
   "outputs": [
    {
     "name": "stdout",
     "output_type": "stream",
     "text": [
      "duras syrah truly local pedigree modern style minerality racy lime grapefruit melon close\n"
     ]
    }
   ],
   "source": [
    "print(text_model.make_short_sentence(100))"
   ]
  },
  {
   "cell_type": "code",
   "execution_count": 15,
   "metadata": {},
   "outputs": [
    {
     "name": "stdout",
     "output_type": "stream",
     "text": [
      "soft somewhat dilute resonate certainly fresh maybe maybe past prime\n"
     ]
    }
   ],
   "source": [
    "print(text_model.make_short_sentence(75))"
   ]
  },
  {
   "cell_type": "code",
   "execution_count": 16,
   "metadata": {},
   "outputs": [
    {
     "name": "stdout",
     "output_type": "stream",
     "text": [
      "soft tenderly fragrant fruit finish woody plenty texture atop surprising acidity cuts right give years\n"
     ]
    }
   ],
   "source": [
    "print(text_model.make_sentence())"
   ]
  },
  {
   "cell_type": "code",
   "execution_count": 17,
   "metadata": {},
   "outputs": [
    {
     "name": "stdout",
     "output_type": "stream",
     "text": [
      "cocoa vanilla black pepper touch green mint touch veggies\n"
     ]
    }
   ],
   "source": [
    "print(text_model.make_sentence())"
   ]
  },
  {
   "cell_type": "code",
   "execution_count": 3,
   "metadata": {},
   "outputs": [
    {
     "name": "stdout",
     "output_type": "stream",
     "text": [
      "totally refreshing finishes nice kick citrus finishes grace freshness\n"
     ]
    }
   ],
   "source": [
    "print(text_model.make_short_sentence(150))"
   ]
  },
  {
   "cell_type": "code",
   "execution_count": 4,
   "metadata": {},
   "outputs": [
    {
     "name": "stdout",
     "output_type": "stream",
     "text": [
      "full bodied uncomplicated certainly fruity also dense monster strong licorice spice likely ready\n"
     ]
    }
   ],
   "source": [
    "print(text_model.make_short_sentence(100))"
   ]
  },
  {
   "cell_type": "code",
   "execution_count": 5,
   "metadata": {},
   "outputs": [
    {
     "name": "stdout",
     "output_type": "stream",
     "text": [
      "cote des blancs tight steely texture still young ready county blend sophisticated sauvignon blanc boxes cut grass gooseberry lime leaf citrus green plums offers bright notes peach apricot fleshy lushly layered persistent luxurious tide ripe fruit flavors chewy smooth thick oakiness palate making good partner sweet salty bacon vanilla creamy notes apple skin mango weave way along balsamic note multifaceted palate delivers sour cherry candy fruit flavors structured bitter edge finish otherwise nice dry berry fruit plenty crisp tart apple finishing sprinkling nutmeg remain firm leathery feel along flavors prune fig notes linger finish\n"
     ]
    }
   ],
   "source": [
    "print(text_model.make_sentence())"
   ]
  },
  {
   "cell_type": "code",
   "execution_count": 6,
   "metadata": {},
   "outputs": [
    {
     "name": "stdout",
     "output_type": "stream",
     "text": [
      "dessert sweetly complex apricot orange flavors main taste element jammy smoky character aroma flavor profile\n"
     ]
    }
   ],
   "source": [
    "print(text_model.make_sentence())"
   ]
  },
  {
   "cell_type": "code",
   "execution_count": 7,
   "metadata": {},
   "outputs": [],
   "source": [
    "def make_sentence(chars):\n",
    "    return text_model.make_short_sentence(chars)"
   ]
  },
  {
   "cell_type": "code",
   "execution_count": 9,
   "metadata": {},
   "outputs": [
    {
     "data": {
      "text/plain": [
       "'morellino terrific red particularly merlot like silky texture drink'"
      ]
     },
     "execution_count": 9,
     "metadata": {},
     "output_type": "execute_result"
    }
   ],
   "source": [
    "make_sentence(150)"
   ]
  },
  {
   "cell_type": "code",
   "execution_count": null,
   "metadata": {},
   "outputs": [],
   "source": []
  }
 ],
 "metadata": {
  "kernelspec": {
   "display_name": "Python 3",
   "language": "python",
   "name": "python3"
  },
  "language_info": {
   "codemirror_mode": {
    "name": "ipython",
    "version": 3
   },
   "file_extension": ".py",
   "mimetype": "text/x-python",
   "name": "python",
   "nbconvert_exporter": "python",
   "pygments_lexer": "ipython3",
   "version": "3.7.6"
  }
 },
 "nbformat": 4,
 "nbformat_minor": 4
}
